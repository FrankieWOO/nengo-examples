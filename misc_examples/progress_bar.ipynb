{
 "cells": [
  {
   "cell_type": "markdown",
   "metadata": {},
   "source": [
    "# Multiple simulations with a single progress bar\n",
    "\n",
    "By default Nengo displays a progress bar for every simulation that takes longer than a certain time interval. When running a large number of simulations it would be more helpful to get a single progress bar that shows the progress of that outer loop. This example shows how this can be achieved."
   ]
  },
  {
   "cell_type": "markdown",
   "metadata": {},
   "source": [
    "## A simple Nengo model\n",
    "\n",
    "To have something that we can run inside the loop, we define a simple Nengo model. Apart from that, it is not doing anything useful."
   ]
  },
  {
   "cell_type": "code",
   "execution_count": 1,
   "metadata": {},
   "outputs": [],
   "source": [
    "import nengo\n",
    "\n",
    "with nengo.Network() as model:\n",
    "    ens = nengo.Ensemble(500, 1)"
   ]
  },
  {
   "cell_type": "markdown",
   "metadata": {},
   "source": [
    "## ProgressTracker\n",
    "\n",
    "To display a progress bar, we use the ``ProgressTracker`` class which can be imported from `nengo.utils.progress`. We also need to import ``Progress`` which holds the data of the current progress."
   ]
  },
  {
   "cell_type": "code",
   "execution_count": 2,
   "metadata": {},
   "outputs": [],
   "source": [
    "from nengo.utils.progress import ProgressTracker, Progress"
   ]
  },
  {
   "cell_type": "markdown",
   "metadata": {},
   "source": [
    "To use the ``ProgressTracker``, it has to be instantiated with two arguments:\n",
    "\n",
    "* The first argument gives the progress bar instance to display. It can be ``True`` to use the default.\n",
    "* The second argument is a ``Progress`` instance that is used to track the actual progress.\n",
    "\n",
    "The ``Progress`` instance needs to be given a task description that is displayed by the progress bar (and optionally a different description to use after the processing has finished) and a ``max_steps`` argument with the maximum number of steps in the processing. ``max_steps`` may be set to ``None`` to display a processing indicator with elapsed time without an actual progress (which is unknown in this case).\n",
    "\n",
    "The ``ProgressTracker`` should be used as a context manager, so that the progress bar gets updated appropriately if an exception occurs during the processing. For each completed processing step the ``ProgressTracker.total_progress.step()`` method should be called.\n",
    "\n",
    "Furthermore, we set the `progress_bar` argument of the `Simulator` to `False` to prevent an extra progress bar from popping up for each trial."
   ]
  },
  {
   "cell_type": "code",
   "execution_count": 3,
   "metadata": {},
   "outputs": [],
   "source": [
    "n_trials = 100\n",
    "with ProgressTracker(True, Progress('Running trials', max_steps=n_trials)) as pt:\n",
    "    for i in range(n_trials):\n",
    "        with nengo.Simulator(model, progress_bar=False) as sim:\n",
    "            sim.run(1.)\n",
    "            pt.total_progress.step()"
   ]
  }
 ],
 "metadata": {
  "kernelspec": {
   "display_name": "nengodev",
   "language": "python",
   "name": "nengodev"
  },
  "language_info": {
   "name": "python",
   "pygments_lexer": "ipython3"
  },
  "widgets": {
   "state": {
    "1bf3070f391e4c78bca4fcf9e7d85b19": {
     "views": [
      {
       "cell_index": 6
      }
     ]
    },
    "1e25b21ed23246279e6a497d3bcdad89": {
     "views": [
      {
       "cell_index": 6
      }
     ]
    },
    "25e3450b5ea0445abcfc57699495afe7": {
     "views": [
      {
       "cell_index": 6
      }
     ]
    },
    "2dd6555dcbff4c0b846e4cdbe0bc1c64": {
     "views": [
      {
       "cell_index": 6
      }
     ]
    },
    "3d424eb0cd8b45a1b521a8fcf338d590": {
     "views": [
      {
       "cell_index": 6
      }
     ]
    },
    "3d87f39afaba4f92ae72579e9be97fb8": {
     "views": [
      {
       "cell_index": 6
      }
     ]
    },
    "45af324a417b4c61b561be52a207e80d": {
     "views": [
      {
       "cell_index": 6
      }
     ]
    },
    "51944060f36344728298ca7ee2760a3a": {
     "views": [
      {
       "cell_index": 6
      }
     ]
    },
    "530bad34cfb344a8b7c443f3e83466ea": {
     "views": [
      {
       "cell_index": 6
      }
     ]
    },
    "61ea11544f0e4c10a8d03e9cdf353e2b": {
     "views": [
      {
       "cell_index": 6
      }
     ]
    },
    "6f7b4bb8f8004e18923b39f7226bb8ab": {
     "views": [
      {
       "cell_index": 6
      }
     ]
    },
    "7301ed7c0d9245d592103570125766d4": {
     "views": [
      {
       "cell_index": 8
      }
     ]
    },
    "78fbb032f3324d2494275d24da8c2fe7": {
     "views": [
      {
       "cell_index": 6
      }
     ]
    },
    "8f670edfd5e8488797619e7d82a058c9": {
     "views": [
      {
       "cell_index": 6
      }
     ]
    },
    "a6267b8d20bb41bb8f09ce7ca9e4ce2a": {
     "views": [
      {
       "cell_index": 6
      }
     ]
    },
    "b52f3c7b56a84bb0b251ada9ceac4b15": {
     "views": [
      {
       "cell_index": 6
      }
     ]
    },
    "bda3c229fc8c4be9a9b91b8d646887e5": {
     "views": [
      {
       "cell_index": 6
      }
     ]
    },
    "c65cb2af15874769bd51416098a97b23": {
     "views": [
      {
       "cell_index": 6
      }
     ]
    },
    "d65c1661183a404cad19df9e8afbbd68": {
     "views": [
      {
       "cell_index": 6
      }
     ]
    },
    "dc900a3eaed84527adb30874c5ebabfb": {
     "views": [
      {
       "cell_index": 6
      }
     ]
    },
    "e36b2a261c234b4eb79f82b980159783": {
     "views": [
      {
       "cell_index": 6
      }
     ]
    },
    "eb7b67b3423e4b8592522630c1e6c99b": {
     "views": [
      {
       "cell_index": 6
      }
     ]
    },
    "ebbc37120960408fb826349536341eae": {
     "views": [
      {
       "cell_index": 6
      }
     ]
    },
    "ee70e03dd0d445f5985fc9d958eda0e0": {
     "views": [
      {
       "cell_index": 6
      }
     ]
    },
    "f82e3034d12046c9b6ed2c816fb32c98": {
     "views": [
      {
       "cell_index": 6
      }
     ]
    },
    "fe05dd4a87a64a22b5be145587800208": {
     "views": [
      {
       "cell_index": 6
      }
     ]
    },
    "fe285175c8be4c5fa526f6cca32bf2e4": {
     "views": [
      {
       "cell_index": 6
      }
     ]
    }
   },
   "version": "1.2.0"
  }
 },
 "nbformat": 4,
 "nbformat_minor": 1
}

